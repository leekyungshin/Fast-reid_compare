{
 "cells": [
  {
   "cell_type": "code",
   "execution_count": 4,
   "metadata": {},
   "outputs": [
    {
     "name": "stderr",
     "output_type": "stream",
     "text": [
      "/home/leekyungshin/miniconda3/envs/nextlab/lib/python3.9/site-packages/tqdm/auto.py:22: TqdmWarning: IProgress not found. Please update jupyter and ipywidgets. See https://ipywidgets.readthedocs.io/en/stable/user_install.html\n",
      "  from .autonotebook import tqdm as notebook_tqdm\n"
     ]
    },
    {
     "data": {
      "text/plain": [
       "'1.13.1+cu117'"
      ]
     },
     "execution_count": 4,
     "metadata": {},
     "output_type": "execute_result"
    }
   ],
   "source": [
    "# import onnxruntime as ort\n",
    "# import torch\n",
    "\n",
    "\n",
    "# torch.cuda.get_device_name(0)\n",
    "\n",
    "# ort.get_device()\n",
    "# # >>> 'CPU'\n",
    "\n",
    "# ort.get_available_providers()\n",
    "# >>> ['CPUExecutionProvider']\n",
    "\n",
    "# !nvcc --version\n",
    "\n",
    "import torch\n",
    "\n",
    "torch.__version__"
   ]
  }
 ],
 "metadata": {
  "kernelspec": {
   "display_name": "nextlab",
   "language": "python",
   "name": "python3"
  },
  "language_info": {
   "codemirror_mode": {
    "name": "ipython",
    "version": 3
   },
   "file_extension": ".py",
   "mimetype": "text/x-python",
   "name": "python",
   "nbconvert_exporter": "python",
   "pygments_lexer": "ipython3",
   "version": "3.7.2 (default, Dec 29 2018, 06:19:36) \n[GCC 7.3.0]"
  },
  "orig_nbformat": 4,
  "vscode": {
   "interpreter": {
    "hash": "64fe2a3968219331fa7512fd26488a79f5676e0e83e704b23508c8be54084fe2"
   }
  }
 },
 "nbformat": 4,
 "nbformat_minor": 2
}
